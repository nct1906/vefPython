{
 "cells": [
  {
   "cell_type": "code",
   "execution_count": 165,
   "metadata": {},
   "outputs": [],
   "source": [
    "from pydrive.auth import GoogleAuth\n",
    "from pydrive.drive import GoogleDrive\n",
    "import os\n",
    "import json\n",
    "from datetime import datetime\n",
    "from __future__ import print_function\n",
    "import pickle\n",
    "import os.path\n",
    "from googleapiclient.discovery import build\n",
    "from google_auth_oauthlib.flow import InstalledAppFlow\n",
    "from google.auth.transport.requests import Request\n",
    "import smtplib  \n",
    "from email import encoders\n",
    "from email.mime.text import MIMEText\n",
    "import base64"
   ]
  },
  {
   "cell_type": "code",
   "execution_count": 166,
   "metadata": {},
   "outputs": [],
   "source": [
    "\n",
    "# If modifying these scopes, delete the file token.pickle.\n",
    "SCOPES = 'https://mail.google.com/'\n",
    "def main():\n",
    "    \"\"\"Shows basic usage of the Gmail API.\n",
    "    Lists the user's Gmail labels.\n",
    "    \"\"\"\n",
    "    creds = None\n",
    "    # The file token.pickle stores the user's access and refresh tokens, and is\n",
    "    # created automatically when the authorization flow completes for the first\n",
    "    # time.\n",
    "    if os.path.exists('token.pickle'):\n",
    "        with open('token.pickle', 'rb') as token:\n",
    "            creds = pickle.load(token)\n",
    "    # If there are no (valid) credentials available, let the user log in.\n",
    "    if not creds or not creds.valid:\n",
    "        if creds and creds.expired and creds.refresh_token:\n",
    "            creds.refresh(Request())\n",
    "        else:\n",
    "            flow = InstalledAppFlow.from_client_secrets_file(\n",
    "                'credentials.json', SCOPES)\n",
    "            creds = flow.run_local_server(port=0)\n",
    "        # Save the credentials for the next run\n",
    "        with open('token.pickle', 'wb') as token:\n",
    "            pickle.dump(creds, token)\n",
    "    global service\n",
    "    service = build('gmail', 'v1', credentials=creds)\n",
    "    # Call the Gmail API\n",
    "    results = service.users().labels().list(userId='me').execute()\n",
    "    labels = results.get('labels', [])\n",
    "if __name__ == '__main__':\n",
    "    main()"
   ]
  },
  {
   "cell_type": "code",
   "execution_count": 167,
   "metadata": {},
   "outputs": [],
   "source": [
    "#CREATE, SEND EMAIL\n",
    "def create_message(sender, to, subject, message_text):\n",
    "    \"\"\"Create a message for an email.\n",
    "\n",
    "    Args:\n",
    "        sender: Email address of the sender.\n",
    "        to: Email address of the receiver.\n",
    "        subject: The subject of the email message.\n",
    "        message_text: The text of the email message.\n",
    "\n",
    "    Returns:\n",
    "        An object containing a base64url encoded email object.\n",
    "\"\"\"\n",
    "    message = MIMEText(message_text)\n",
    "    message['to'] = to\n",
    "    message['from'] = sender\n",
    "    message['subject'] = subject\n",
    "    b64_bytes = base64.urlsafe_b64encode(message.as_bytes())\n",
    "    b64_string = b64_bytes.decode()\n",
    "    return {'raw': b64_string}\n",
    "def send_message(service, user_id, message):\n",
    "    \"\"\"Send an email message.\n",
    "\n",
    "    Args:\n",
    "        service: Authorized Gmail API service instance.\n",
    "        user_id: User's email address. The special value \"me\"\n",
    "        can be used to indicate the authenticated user.\n",
    "        message: Message to be sent.\n",
    "\n",
    "    Returns:\n",
    "        Sent Message.\n",
    "    \"\"\"\n",
    "    message = (service.users().messages().send(userId=user_id, body=message).execute())\n",
    "    return message\n"
   ]
  },
  {
   "cell_type": "code",
   "execution_count": 168,
   "metadata": {},
   "outputs": [],
   "source": [
    "#GOOGLE DRIVE API\n",
    "gauth = GoogleAuth()\n",
    "gauth.LoadCredentialsFile(\"mycreds.txt\")\n",
    "gauth.LocalWebserverAuth() # Creates local webserver and auto handles authentication.\n",
    "if gauth.credentials is None:\n",
    "    gauth.LocalWebserverAuth() # Authenticate if they're not there\n",
    "elif gauth.access_token_expired:\n",
    "    gauth.Refresh() # Refresh them if expired\n",
    "else: \n",
    "    gauth.Authorize() # Initialize the saved creds\n",
    "gauth.SaveCredentialsFile(\"mycreds.txt\") # Save the current credentials to a file\n",
    "drive = GoogleDrive(gauth)"
   ]
  },
  {
   "cell_type": "code",
   "execution_count": 169,
   "metadata": {},
   "outputs": [],
   "source": [
    "#UPLOAD FILE SETTING\n",
    "def newFolder():\n",
    "    file_list = drive.ListFile({\"q\": \"'root' in parents and mimeType='application/vnd.google-apps.folder' and trashed=false\"}).GetList()\n",
    "    for file1 in file_list:\n",
    "        print('Your existing folders: '+file1['title'])\n",
    "    createFolder=input('Do you want to create a new folder? No or Yes')\n",
    "    folderName=input('Enter folder name: ')\n",
    "    if(createFolder=='Yes' or createFolder=='yes'):\n",
    "        folder = drive.CreateFile({'title' : folderName, 'mimeType' : 'application/vnd.google-apps.folder'})\n",
    "        folder.Upload()\n",
    "        return folder['id']\n",
    "    else:\n",
    "        for file1 in file_list:\n",
    "            if file1['title']==folderName:\n",
    "                return file1['id'] \n",
    "def getPath():\n",
    "    folder=newFolder() \n",
    "    path=input('Enter file path to upload:' )\n",
    "    body=''\n",
    "    entries = os.listdir(path)\n",
    "    for entry in entries:\n",
    "        pathN = r'{}'.format(path)\n",
    "        pathN=pathN+'\\\\'+entry       \n",
    "        fileLink=uploadFile(entry,folder,pathN)\n",
    "        body+=entry+' has been uploaded at ' + fileLink+'\\n'\n",
    "    user=(service.users().getProfile(userId='me').execute())\n",
    "    emailAddress=user['emailAddress']\n",
    "    message= create_message(emailAddress,emailAddress,'Your files have been uploaded!',body)\n",
    "    send_message(service,'me',message)\n",
    "    print('Da gui email')"
   ]
  },
  {
   "cell_type": "code",
   "execution_count": 170,
   "metadata": {},
   "outputs": [
    {
     "name": "stdout",
     "output_type": "stream",
     "text": [
      "Your existing folders: Piano\n",
      "Your existing folders: new fol\n",
      "Your existing folders: new fol\n",
      "Your existing folders: new folder\n",
      "Your existing folders: VEF Testing\n",
      "Your existing folders: media\n",
      "Your existing folders: 24.09.20\n",
      "Your existing folders: 29.08.20\n",
      "Your existing folders: Hà Phương \n",
      "Your existing folders: anh\n",
      "Your existing folders: da chinh\n",
      "Your existing folders: Tú\n",
      "Your existing folders: Boiz A3\n",
      "Your existing folders: Piano\n",
      "Your existing folders: DOCUMENT\n",
      "Your existing folders: random\n",
      "Your existing folders: w LP\n",
      "Your existing folders: 15.03.19\n",
      "Your existing folders: Nguyễn Cẩm Tú\n",
      "Your existing folders: 250117 with 4\\\n",
      "Your existing folders: Nguyễn Cẩm Tú\n"
     ]
    },
    {
     "name": "stdin",
     "output_type": "stream",
     "text": [
      "Do you want to create a new folder? No or Yes No\n",
      "Enter folder name:  random\n",
      "Enter file path to upload: C:\\Users\\Admin\\Documents\\hi\n"
     ]
    },
    {
     "name": "stdout",
     "output_type": "stream",
     "text": [
      "test.docx 1MUbrVFv-VixCcB_6yCtr8rBrjZDzl_JT\n",
      "z.docx 1MUbrVFv-VixCcB_6yCtr8rBrjZDzl_JT\n",
      "Da gui email\n"
     ]
    }
   ],
   "source": [
    "#UPLOAD FILE\n",
    "def uploadFile(entry,folder,path):\n",
    "    print(entry,folder)\n",
    "    time= datetime.now()\n",
    "    timeName=time.strftime(\"%d-%b-%Y (%H:%M:%S.%f)\")\n",
    "    file1 = drive.CreateFile({'title': timeName+entry, 'parents': [{'id': folder}]})  # Create GoogleDriveFile instance with title \n",
    "    file1.SetContentFile(path) # Set content of the file from given path\n",
    "    file1.Upload()\n",
    "    return file1['alternateLink']\n",
    "getPath()"
   ]
  },
  {
   "cell_type": "code",
   "execution_count": null,
   "metadata": {},
   "outputs": [],
   "source": []
  },
  {
   "cell_type": "code",
   "execution_count": null,
   "metadata": {},
   "outputs": [],
   "source": []
  }
 ],
 "metadata": {
  "kernelspec": {
   "display_name": "Python 3",
   "language": "python",
   "name": "python3"
  },
  "language_info": {
   "codemirror_mode": {
    "name": "ipython",
    "version": 3
   },
   "file_extension": ".py",
   "mimetype": "text/x-python",
   "name": "python",
   "nbconvert_exporter": "python",
   "pygments_lexer": "ipython3",
   "version": "3.8.3"
  }
 },
 "nbformat": 4,
 "nbformat_minor": 4
}
